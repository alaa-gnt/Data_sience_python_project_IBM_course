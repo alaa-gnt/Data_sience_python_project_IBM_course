{
 "cells": [
  {
   "cell_type": "code",
   "execution_count": 25,
   "id": "f7661ad4",
   "metadata": {},
   "outputs": [
    {
     "name": "stdout",
     "output_type": "stream",
     "text": [
      "Requirement already satisfied: yfinance in d:\\devtools\\python\\lib\\site-packages (0.2.66)\n",
      "Requirement already satisfied: multitasking>=0.0.7 in d:\\devtools\\python\\lib\\site-packages (from yfinance) (0.0.12)\n",
      "Requirement already satisfied: curl_cffi>=0.7 in d:\\devtools\\python\\lib\\site-packages (from yfinance) (0.13.0)\n",
      "Requirement already satisfied: requests>=2.31 in d:\\devtools\\python\\lib\\site-packages (from yfinance) (2.32.5)\n",
      "Requirement already satisfied: pandas>=1.3.0 in d:\\devtools\\python\\lib\\site-packages (from yfinance) (2.3.2)\n",
      "Requirement already satisfied: platformdirs>=2.0.0 in c:\\users\\alaag\\appdata\\roaming\\python\\python310\\site-packages (from yfinance) (4.4.0)\n",
      "Requirement already satisfied: frozendict>=2.3.4 in d:\\devtools\\python\\lib\\site-packages (from yfinance) (2.4.6)\n",
      "Requirement already satisfied: beautifulsoup4>=4.11.1 in d:\\devtools\\python\\lib\\site-packages (from yfinance) (4.13.5)\n",
      "Requirement already satisfied: protobuf>=3.19.0 in d:\\devtools\\python\\lib\\site-packages (from yfinance) (6.32.1)\n",
      "Requirement already satisfied: websockets>=13.0 in d:\\devtools\\python\\lib\\site-packages (from yfinance) (15.0.1)\n",
      "Requirement already satisfied: numpy>=1.16.5 in d:\\devtools\\python\\lib\\site-packages (from yfinance) (2.2.6)\n",
      "Requirement already satisfied: pytz>=2022.5 in d:\\devtools\\python\\lib\\site-packages (from yfinance) (2025.2)\n",
      "Requirement already satisfied: peewee>=3.16.2 in d:\\devtools\\python\\lib\\site-packages (from yfinance) (3.18.2)\n",
      "Requirement already satisfied: soupsieve>1.2 in d:\\devtools\\python\\lib\\site-packages (from beautifulsoup4>=4.11.1->yfinance) (2.8)\n",
      "Requirement already satisfied: typing-extensions>=4.0.0 in c:\\users\\alaag\\appdata\\roaming\\python\\python310\\site-packages (from beautifulsoup4>=4.11.1->yfinance) (4.15.0)\n",
      "Requirement already satisfied: certifi>=2024.2.2 in d:\\devtools\\python\\lib\\site-packages (from curl_cffi>=0.7->yfinance) (2025.8.3)\n",
      "Requirement already satisfied: cffi>=1.12.0 in d:\\devtools\\python\\lib\\site-packages (from curl_cffi>=0.7->yfinance) (2.0.0)\n",
      "Requirement already satisfied: python-dateutil>=2.8.2 in c:\\users\\alaag\\appdata\\roaming\\python\\python310\\site-packages (from pandas>=1.3.0->yfinance) (2.9.0.post0)\n",
      "Requirement already satisfied: tzdata>=2022.7 in d:\\devtools\\python\\lib\\site-packages (from pandas>=1.3.0->yfinance) (2025.2)\n",
      "Requirement already satisfied: charset_normalizer<4,>=2 in d:\\devtools\\python\\lib\\site-packages (from requests>=2.31->yfinance) (3.4.3)\n",
      "Requirement already satisfied: idna<4,>=2.5 in d:\\devtools\\python\\lib\\site-packages (from requests>=2.31->yfinance) (3.10)\n",
      "Requirement already satisfied: urllib3<3,>=1.21.1 in d:\\devtools\\python\\lib\\site-packages (from requests>=2.31->yfinance) (2.5.0)\n",
      "Requirement already satisfied: pycparser in d:\\devtools\\python\\lib\\site-packages (from cffi>=1.12.0->curl_cffi>=0.7->yfinance) (2.23)\n",
      "Requirement already satisfied: six>=1.5 in c:\\users\\alaag\\appdata\\roaming\\python\\python310\\site-packages (from python-dateutil>=2.8.2->pandas>=1.3.0->yfinance) (1.17.0)\n"
     ]
    },
    {
     "name": "stderr",
     "output_type": "stream",
     "text": [
      "\n",
      "[notice] A new release of pip available: 22.3.1 -> 25.2\n",
      "[notice] To update, run: python.exe -m pip install --upgrade pip\n"
     ]
    }
   ],
   "source": [
    "!pip install yfinance"
   ]
  },
  {
   "cell_type": "code",
   "execution_count": 26,
   "id": "00453801",
   "metadata": {},
   "outputs": [],
   "source": [
    "import yfinance\n",
    "\n",
    "apple = yfinance.Ticker(\"AAPL\")"
   ]
  },
  {
   "cell_type": "code",
   "execution_count": 27,
   "id": "b0c11d80",
   "metadata": {},
   "outputs": [
    {
     "name": "stderr",
     "output_type": "stream",
     "text": [
      "'wget' is not recognized as an internal or external command,\n",
      "operable program or batch file.\n"
     ]
    }
   ],
   "source": [
    "!wget https://cf-courses-data.s3.us.cloud-object-storage.appdomain.cloud/IBMDeveloperSkillsNetwork-PY0220EN-SkillsNetwork/data/apple.json"
   ]
  },
  {
   "cell_type": "code",
   "execution_count": 28,
   "id": "e20598c5",
   "metadata": {},
   "outputs": [],
   "source": [
    "import json"
   ]
  },
  {
   "cell_type": "markdown",
   "id": "2d101551",
   "metadata": {},
   "source": [
    "# Studying Share market for Apple"
   ]
  },
  {
   "cell_type": "code",
   "execution_count": 29,
   "id": "41929739",
   "metadata": {},
   "outputs": [
    {
     "name": "stdout",
     "output_type": "stream",
     "text": [
      "{'zip': '95014', 'sector': 'Technology', 'fullTimeEmployees': 100000, 'longBusinessSummary': 'Apple Inc. designs, manufactures, and markets smartphones, personal computers, tablets, wearables, and accessories worldwide. It also sells various related services. In addition, the company offers iPhone, a line of smartphones; Mac, a line of personal computers; iPad, a line of multi-purpose tablets; AirPods Max, an over-ear wireless headphone; and wearables, home, and accessories comprising AirPods, Apple TV, Apple Watch, Beats products, HomePod, and iPod touch. Further, it provides AppleCare support services; cloud services store services; and operates various platforms, including the App Store that allow customers to discover and download applications and digital content, such as books, music, video, games, and podcasts. Additionally, the company offers various services, such as Apple Arcade, a game subscription service; Apple Music, which offers users a curated listening experience with on-demand radio stations; Apple News+, a subscription news and magazine service; Apple TV+, which offers exclusive original content; Apple Card, a co-branded credit card; and Apple Pay, a cashless payment service, as well as licenses its intellectual property. The company serves consumers, and small and mid-sized businesses; and the education, enterprise, and government markets. It distributes third-party applications for its products through the App Store. The company also sells its products through its retail and online stores, and direct sales force; and third-party cellular network carriers, wholesalers, retailers, and resellers. Apple Inc. was incorporated in 1977 and is headquartered in Cupertino, California.', 'city': 'Cupertino', 'phone': '408 996 1010', 'state': 'CA', 'country': 'United States', 'companyOfficers': [], 'website': 'https://www.apple.com', 'maxAge': 1, 'address1': 'One Apple Park Way', 'industry': 'Consumer Electronics', 'ebitdaMargins': 0.33890998, 'profitMargins': 0.26579002, 'grossMargins': 0.43019, 'operatingCashflow': 112241000448, 'revenueGrowth': 0.112, 'operatingMargins': 0.309, 'ebitda': 128217997312, 'targetLowPrice': 160, 'recommendationKey': 'buy', 'grossProfits': 152836000000, 'freeCashflow': 80153247744, 'targetMedianPrice': 199.5, 'currentPrice': 177.77, 'earningsGrowth': 0.25, 'currentRatio': 1.038, 'returnOnAssets': 0.19875, 'numberOfAnalystOpinions': 44, 'targetMeanPrice': 193.53, 'debtToEquity': 170.714, 'returnOnEquity': 1.45567, 'targetHighPrice': 215, 'totalCash': 63913000960, 'totalDebt': 122797998080, 'totalRevenue': 378323009536, 'totalCashPerShare': 3.916, 'financialCurrency': 'USD', 'revenuePerShare': 22.838, 'quickRatio': 0.875, 'recommendationMean': 1.8, 'exchange': 'NMS', 'shortName': 'Apple Inc.', 'longName': 'Apple Inc.', 'exchangeTimezoneName': 'America/New_York', 'exchangeTimezoneShortName': 'EDT', 'isEsgPopulated': False, 'gmtOffSetMilliseconds': '-14400000', 'quoteType': 'EQUITY', 'symbol': 'AAPL', 'messageBoardId': 'finmb_24937', 'market': 'us_market', 'annualHoldingsTurnover': None, 'enterpriseToRevenue': 7.824, 'beta3Year': None, 'enterpriseToEbitda': 23.086, '52WeekChange': 0.4549594, 'morningStarRiskRating': None, 'forwardEps': 6.56, 'revenueQuarterlyGrowth': None, 'sharesOutstanding': 16319399936, 'fundInceptionDate': None, 'annualReportExpenseRatio': None, 'totalAssets': None, 'bookValue': 4.402, 'sharesShort': 111286790, 'sharesPercentSharesOut': 0.0068, 'fundFamily': None, 'lastFiscalYearEnd': 1632528000, 'heldPercentInstitutions': 0.59397, 'netIncomeToCommon': 100554997760, 'trailingEps': 6.015, 'lastDividendValue': 0.22, 'SandP52WeekChange': 0.15217662, 'priceToBook': 40.38392, 'heldPercentInsiders': 0.0007, 'nextFiscalYearEnd': 1695600000, 'yield': None, 'mostRecentQuarter': 1640390400, 'shortRatio': 1.21, 'sharesShortPreviousMonthDate': 1644883200, 'floatShares': 16302795170, 'beta': 1.185531, 'enterpriseValue': 2959991898112, 'priceHint': 2, 'threeYearAverageReturn': None, 'lastSplitDate': 1598832000, 'lastSplitFactor': '4:1', 'legalType': None, 'lastDividendDate': 1643932800, 'morningStarOverallRating': None, 'earningsQuarterlyGrowth': 0.204, 'priceToSalesTrailing12Months': 7.668314, 'dateShortInterest': 1647302400, 'pegRatio': 1.94, 'ytdReturn': None, 'forwardPE': 27.099087, 'lastCapGain': None, 'shortPercentOfFloat': 0.0068, 'sharesShortPriorMonth': 108944701, 'impliedSharesOutstanding': 0, 'category': None, 'fiveYearAverageReturn': None, 'previousClose': 178.96, 'regularMarketOpen': 178.55, 'twoHundredDayAverage': 156.03505, 'trailingAnnualDividendYield': 0.004833482, 'payoutRatio': 0.1434, 'volume24Hr': None, 'regularMarketDayHigh': 179.61, 'navPrice': None, 'averageDailyVolume10Day': 93823630, 'regularMarketPreviousClose': 178.96, 'fiftyDayAverage': 166.498, 'trailingAnnualDividendRate': 0.865, 'open': 178.55, 'toCurrency': None, 'averageVolume10days': 93823630, 'expireDate': None, 'algorithm': None, 'dividendRate': 0.88, 'exDividendDate': 1643932800, 'circulatingSupply': None, 'startDate': None, 'regularMarketDayLow': 176.7, 'currency': 'USD', 'trailingPE': 29.55445, 'regularMarketVolume': 92633154, 'lastMarket': None, 'maxSupply': None, 'openInterest': None, 'marketCap': 2901099675648, 'volumeAllCurrencies': None, 'strikePrice': None, 'averageVolume': 95342043, 'dayLow': 176.7, 'ask': 178.53, 'askSize': 800, 'volume': 92633154, 'fiftyTwoWeekHigh': 182.94, 'fromCurrency': None, 'fiveYearAvgDividendYield': 1.13, 'fiftyTwoWeekLow': 122.25, 'bid': 178.4, 'tradeable': False, 'dividendYield': 0.005, 'bidSize': 3200, 'dayHigh': 179.61, 'regularMarketPrice': 177.77, 'preMarketPrice': 178.38, 'logo_url': 'https://logo.clearbit.com/apple.com'}\n"
     ]
    }
   ],
   "source": [
    "with open('apple.json') as json_file:\n",
    "    apple_data = json.load(json_file)\n",
    "\n",
    "print(apple_data)"
   ]
  },
  {
   "cell_type": "code",
   "execution_count": 30,
   "id": "68e79112",
   "metadata": {},
   "outputs": [
    {
     "data": {
      "text/html": [
       "<div>\n",
       "<style scoped>\n",
       "    .dataframe tbody tr th:only-of-type {\n",
       "        vertical-align: middle;\n",
       "    }\n",
       "\n",
       "    .dataframe tbody tr th {\n",
       "        vertical-align: top;\n",
       "    }\n",
       "\n",
       "    .dataframe thead th {\n",
       "        text-align: right;\n",
       "    }\n",
       "</style>\n",
       "<table border=\"1\" class=\"dataframe\">\n",
       "  <thead>\n",
       "    <tr style=\"text-align: right;\">\n",
       "      <th></th>\n",
       "      <th>zip</th>\n",
       "      <th>sector</th>\n",
       "      <th>fullTimeEmployees</th>\n",
       "      <th>longBusinessSummary</th>\n",
       "      <th>city</th>\n",
       "      <th>phone</th>\n",
       "      <th>state</th>\n",
       "      <th>country</th>\n",
       "      <th>companyOfficers</th>\n",
       "      <th>website</th>\n",
       "      <th>...</th>\n",
       "      <th>fiveYearAvgDividendYield</th>\n",
       "      <th>fiftyTwoWeekLow</th>\n",
       "      <th>bid</th>\n",
       "      <th>tradeable</th>\n",
       "      <th>dividendYield</th>\n",
       "      <th>bidSize</th>\n",
       "      <th>dayHigh</th>\n",
       "      <th>regularMarketPrice</th>\n",
       "      <th>preMarketPrice</th>\n",
       "      <th>logo_url</th>\n",
       "    </tr>\n",
       "  </thead>\n",
       "  <tbody>\n",
       "    <tr>\n",
       "      <th>0</th>\n",
       "      <td>95014</td>\n",
       "      <td>Technology</td>\n",
       "      <td>100000</td>\n",
       "      <td>Apple Inc. designs, manufactures, and markets ...</td>\n",
       "      <td>Cupertino</td>\n",
       "      <td>408 996 1010</td>\n",
       "      <td>CA</td>\n",
       "      <td>United States</td>\n",
       "      <td>[]</td>\n",
       "      <td>https://www.apple.com</td>\n",
       "      <td>...</td>\n",
       "      <td>1.13</td>\n",
       "      <td>122.25</td>\n",
       "      <td>178.4</td>\n",
       "      <td>False</td>\n",
       "      <td>0.005</td>\n",
       "      <td>3200</td>\n",
       "      <td>179.61</td>\n",
       "      <td>177.77</td>\n",
       "      <td>178.38</td>\n",
       "      <td>https://logo.clearbit.com/apple.com</td>\n",
       "    </tr>\n",
       "  </tbody>\n",
       "</table>\n",
       "<p>1 rows × 152 columns</p>\n",
       "</div>"
      ],
      "text/plain": [
       "     zip      sector  fullTimeEmployees  \\\n",
       "0  95014  Technology             100000   \n",
       "\n",
       "                                 longBusinessSummary       city         phone  \\\n",
       "0  Apple Inc. designs, manufactures, and markets ...  Cupertino  408 996 1010   \n",
       "\n",
       "  state        country companyOfficers                website  ...  \\\n",
       "0    CA  United States              []  https://www.apple.com  ...   \n",
       "\n",
       "   fiveYearAvgDividendYield fiftyTwoWeekLow    bid  tradeable  dividendYield  \\\n",
       "0                      1.13          122.25  178.4      False          0.005   \n",
       "\n",
       "   bidSize  dayHigh  regularMarketPrice  preMarketPrice  \\\n",
       "0     3200   179.61              177.77          178.38   \n",
       "\n",
       "                              logo_url  \n",
       "0  https://logo.clearbit.com/apple.com  \n",
       "\n",
       "[1 rows x 152 columns]"
      ]
     },
     "execution_count": 30,
     "metadata": {},
     "output_type": "execute_result"
    }
   ],
   "source": [
    "import pandas as pd\n",
    "\n",
    "table = pd.DataFrame([apple_data])\n",
    "table"
   ]
  },
  {
   "cell_type": "code",
   "execution_count": 31,
   "id": "040fbcbd",
   "metadata": {},
   "outputs": [],
   "source": [
    "apple_share_price_data = apple.history(period=\"max\")"
   ]
  },
  {
   "cell_type": "code",
   "execution_count": 32,
   "id": "8296ae15",
   "metadata": {},
   "outputs": [
    {
     "data": {
      "text/html": [
       "<div>\n",
       "<style scoped>\n",
       "    .dataframe tbody tr th:only-of-type {\n",
       "        vertical-align: middle;\n",
       "    }\n",
       "\n",
       "    .dataframe tbody tr th {\n",
       "        vertical-align: top;\n",
       "    }\n",
       "\n",
       "    .dataframe thead th {\n",
       "        text-align: right;\n",
       "    }\n",
       "</style>\n",
       "<table border=\"1\" class=\"dataframe\">\n",
       "  <thead>\n",
       "    <tr style=\"text-align: right;\">\n",
       "      <th></th>\n",
       "      <th>Open</th>\n",
       "      <th>High</th>\n",
       "      <th>Low</th>\n",
       "      <th>Close</th>\n",
       "      <th>Volume</th>\n",
       "      <th>Dividends</th>\n",
       "      <th>Stock Splits</th>\n",
       "    </tr>\n",
       "    <tr>\n",
       "      <th>Date</th>\n",
       "      <th></th>\n",
       "      <th></th>\n",
       "      <th></th>\n",
       "      <th></th>\n",
       "      <th></th>\n",
       "      <th></th>\n",
       "      <th></th>\n",
       "    </tr>\n",
       "  </thead>\n",
       "  <tbody>\n",
       "    <tr>\n",
       "      <th>1980-12-12 00:00:00-05:00</th>\n",
       "      <td>0.098485</td>\n",
       "      <td>0.098913</td>\n",
       "      <td>0.098485</td>\n",
       "      <td>0.098485</td>\n",
       "      <td>469033600</td>\n",
       "      <td>0.0</td>\n",
       "      <td>0.0</td>\n",
       "    </tr>\n",
       "    <tr>\n",
       "      <th>1980-12-15 00:00:00-05:00</th>\n",
       "      <td>0.093775</td>\n",
       "      <td>0.093775</td>\n",
       "      <td>0.093347</td>\n",
       "      <td>0.093347</td>\n",
       "      <td>175884800</td>\n",
       "      <td>0.0</td>\n",
       "      <td>0.0</td>\n",
       "    </tr>\n",
       "    <tr>\n",
       "      <th>1980-12-16 00:00:00-05:00</th>\n",
       "      <td>0.086924</td>\n",
       "      <td>0.086924</td>\n",
       "      <td>0.086495</td>\n",
       "      <td>0.086495</td>\n",
       "      <td>105728000</td>\n",
       "      <td>0.0</td>\n",
       "      <td>0.0</td>\n",
       "    </tr>\n",
       "    <tr>\n",
       "      <th>1980-12-17 00:00:00-05:00</th>\n",
       "      <td>0.088636</td>\n",
       "      <td>0.089064</td>\n",
       "      <td>0.088636</td>\n",
       "      <td>0.088636</td>\n",
       "      <td>86441600</td>\n",
       "      <td>0.0</td>\n",
       "      <td>0.0</td>\n",
       "    </tr>\n",
       "    <tr>\n",
       "      <th>1980-12-18 00:00:00-05:00</th>\n",
       "      <td>0.091206</td>\n",
       "      <td>0.091634</td>\n",
       "      <td>0.091206</td>\n",
       "      <td>0.091206</td>\n",
       "      <td>73449600</td>\n",
       "      <td>0.0</td>\n",
       "      <td>0.0</td>\n",
       "    </tr>\n",
       "    <tr>\n",
       "      <th>...</th>\n",
       "      <td>...</td>\n",
       "      <td>...</td>\n",
       "      <td>...</td>\n",
       "      <td>...</td>\n",
       "      <td>...</td>\n",
       "      <td>...</td>\n",
       "      <td>...</td>\n",
       "    </tr>\n",
       "    <tr>\n",
       "      <th>2025-09-15 00:00:00-04:00</th>\n",
       "      <td>237.000000</td>\n",
       "      <td>238.190002</td>\n",
       "      <td>235.029999</td>\n",
       "      <td>236.699997</td>\n",
       "      <td>42699500</td>\n",
       "      <td>0.0</td>\n",
       "      <td>0.0</td>\n",
       "    </tr>\n",
       "    <tr>\n",
       "      <th>2025-09-16 00:00:00-04:00</th>\n",
       "      <td>237.179993</td>\n",
       "      <td>241.220001</td>\n",
       "      <td>236.320007</td>\n",
       "      <td>238.149994</td>\n",
       "      <td>63421100</td>\n",
       "      <td>0.0</td>\n",
       "      <td>0.0</td>\n",
       "    </tr>\n",
       "    <tr>\n",
       "      <th>2025-09-17 00:00:00-04:00</th>\n",
       "      <td>238.970001</td>\n",
       "      <td>240.100006</td>\n",
       "      <td>237.729996</td>\n",
       "      <td>238.990005</td>\n",
       "      <td>46508000</td>\n",
       "      <td>0.0</td>\n",
       "      <td>0.0</td>\n",
       "    </tr>\n",
       "    <tr>\n",
       "      <th>2025-09-18 00:00:00-04:00</th>\n",
       "      <td>239.970001</td>\n",
       "      <td>241.199997</td>\n",
       "      <td>236.649994</td>\n",
       "      <td>237.880005</td>\n",
       "      <td>44249600</td>\n",
       "      <td>0.0</td>\n",
       "      <td>0.0</td>\n",
       "    </tr>\n",
       "    <tr>\n",
       "      <th>2025-09-19 00:00:00-04:00</th>\n",
       "      <td>241.229996</td>\n",
       "      <td>246.300003</td>\n",
       "      <td>240.210007</td>\n",
       "      <td>245.500000</td>\n",
       "      <td>163470300</td>\n",
       "      <td>0.0</td>\n",
       "      <td>0.0</td>\n",
       "    </tr>\n",
       "  </tbody>\n",
       "</table>\n",
       "<p>11284 rows × 7 columns</p>\n",
       "</div>"
      ],
      "text/plain": [
       "                                 Open        High         Low       Close  \\\n",
       "Date                                                                        \n",
       "1980-12-12 00:00:00-05:00    0.098485    0.098913    0.098485    0.098485   \n",
       "1980-12-15 00:00:00-05:00    0.093775    0.093775    0.093347    0.093347   \n",
       "1980-12-16 00:00:00-05:00    0.086924    0.086924    0.086495    0.086495   \n",
       "1980-12-17 00:00:00-05:00    0.088636    0.089064    0.088636    0.088636   \n",
       "1980-12-18 00:00:00-05:00    0.091206    0.091634    0.091206    0.091206   \n",
       "...                               ...         ...         ...         ...   \n",
       "2025-09-15 00:00:00-04:00  237.000000  238.190002  235.029999  236.699997   \n",
       "2025-09-16 00:00:00-04:00  237.179993  241.220001  236.320007  238.149994   \n",
       "2025-09-17 00:00:00-04:00  238.970001  240.100006  237.729996  238.990005   \n",
       "2025-09-18 00:00:00-04:00  239.970001  241.199997  236.649994  237.880005   \n",
       "2025-09-19 00:00:00-04:00  241.229996  246.300003  240.210007  245.500000   \n",
       "\n",
       "                              Volume  Dividends  Stock Splits  \n",
       "Date                                                           \n",
       "1980-12-12 00:00:00-05:00  469033600        0.0           0.0  \n",
       "1980-12-15 00:00:00-05:00  175884800        0.0           0.0  \n",
       "1980-12-16 00:00:00-05:00  105728000        0.0           0.0  \n",
       "1980-12-17 00:00:00-05:00   86441600        0.0           0.0  \n",
       "1980-12-18 00:00:00-05:00   73449600        0.0           0.0  \n",
       "...                              ...        ...           ...  \n",
       "2025-09-15 00:00:00-04:00   42699500        0.0           0.0  \n",
       "2025-09-16 00:00:00-04:00   63421100        0.0           0.0  \n",
       "2025-09-17 00:00:00-04:00   46508000        0.0           0.0  \n",
       "2025-09-18 00:00:00-04:00   44249600        0.0           0.0  \n",
       "2025-09-19 00:00:00-04:00  163470300        0.0           0.0  \n",
       "\n",
       "[11284 rows x 7 columns]"
      ]
     },
     "execution_count": 32,
     "metadata": {},
     "output_type": "execute_result"
    }
   ],
   "source": [
    "apple_share_price_data"
   ]
  },
  {
   "cell_type": "code",
   "execution_count": 33,
   "id": "bef6e451",
   "metadata": {},
   "outputs": [],
   "source": [
    "apple_share_price_data.reset_index(inplace=True)"
   ]
  },
  {
   "cell_type": "code",
   "execution_count": 34,
   "id": "05417154",
   "metadata": {},
   "outputs": [
    {
     "data": {
      "text/plain": [
       "<Axes: xlabel='Date'>"
      ]
     },
     "execution_count": 34,
     "metadata": {},
     "output_type": "execute_result"
    },
    {
     "data": {
      "image/png": "[encoded data removed]",
      "text/plain": [
       "<Figure size 640x480 with 1 Axes>"
      ]
     },
     "metadata": {},
     "output_type": "display_data"
    }
   ],
   "source": [
    "apple_share_price_data.plot(x=\"Date\", y=\"Open\")"
   ]
  },
  {
   "cell_type": "code",
   "execution_count": 35,
   "id": "d00b3049",
   "metadata": {},
   "outputs": [
    {
     "data": {
      "text/plain": [
       "<Axes: xlabel='Date'>"
      ]
     },
     "execution_count": 35,
     "metadata": {},
     "output_type": "execute_result"
    },
    {
     "data": {
      "image/png": "[encoded data removed]",
      "text/plain": [
       "<Figure size 640x480 with 1 Axes>"
      ]
     },
     "metadata": {},
     "output_type": "display_data"
    }
   ],
   "source": [
    "apple_share_price_data.plot(x=\"Date\", y=\"Close\")"
   ]
  },
  {
   "cell_type": "code",
   "execution_count": 36,
   "id": "add9f69e",
   "metadata": {},
   "outputs": [
    {
     "data": {
      "text/plain": [
       "Date\n",
       "1987-05-11 00:00:00-04:00    0.000536\n",
       "1987-08-10 00:00:00-04:00    0.000536\n",
       "1987-11-17 00:00:00-05:00    0.000714\n",
       "1988-02-12 00:00:00-05:00    0.000714\n",
       "1988-05-16 00:00:00-04:00    0.000714\n",
       "                               ...   \n",
       "2024-08-12 00:00:00-04:00    0.250000\n",
       "2024-11-08 00:00:00-05:00    0.250000\n",
       "2025-02-10 00:00:00-05:00    0.250000\n",
       "2025-05-12 00:00:00-04:00    0.260000\n",
       "2025-08-11 00:00:00-04:00    0.260000\n",
       "Name: Dividends, Length: 88, dtype: float64"
      ]
     },
     "execution_count": 36,
     "metadata": {},
     "output_type": "execute_result"
    }
   ],
   "source": [
    "apple.dividends"
   ]
  },
  {
   "cell_type": "code",
   "execution_count": 37,
   "id": "c2c5cee0",
   "metadata": {},
   "outputs": [
    {
     "data": {
      "text/plain": [
       "<Axes: xlabel='Date'>"
      ]
     },
     "execution_count": 37,
     "metadata": {},
     "output_type": "execute_result"
    },
    {
     "data": {
      "image/png": "[encoded data removed]",
      "text/plain": [
       "<Figure size 640x480 with 1 Axes>"
      ]
     },
     "metadata": {},
     "output_type": "display_data"
    }
   ],
   "source": [
    "apple.dividends.plot()"
   ]
  },
  {
   "cell_type": "code",
   "execution_count": 38,
   "id": "1740257f",
   "metadata": {},
   "outputs": [
    {
     "data": {
      "text/plain": [
       "np.float64(0.26)"
      ]
     },
     "execution_count": 38,
     "metadata": {},
     "output_type": "execute_result"
    }
   ],
   "source": [
    "apple.dividends.max()"
   ]
  },
  {
   "cell_type": "markdown",
   "id": "fc0af8ff",
   "metadata": {},
   "source": [
    "# Studying Share market for AMD"
   ]
  },
  {
   "cell_type": "code",
   "execution_count": 39,
   "id": "6e69ee4a",
   "metadata": {},
   "outputs": [],
   "source": [
    "amd = yfinance.Ticker(\"AMD\")"
   ]
  },
  {
   "cell_type": "code",
   "execution_count": 40,
   "id": "5b19dc48",
   "metadata": {},
   "outputs": [
    {
     "name": "stdout",
     "output_type": "stream",
     "text": [
      "{'zip': '95054', 'sector': 'Technology', 'fullTimeEmployees': 15500, 'longBusinessSummary': 'Advanced Micro Devices, Inc. operates as a semiconductor company worldwide. The company operates in two segments, Computing and Graphics; and Enterprise, Embedded and Semi-Custom. Its products include x86 microprocessors as an accelerated processing unit, chipsets, discrete and integrated graphics processing units (GPUs), data center and professional GPUs, and development services; and server and embedded processors, and semi-custom System-on-Chip (SoC) products, development services, and technology for game consoles. The company provides processors for desktop and notebook personal computers under the AMD Ryzen, AMD Ryzen PRO, Ryzen Threadripper, Ryzen Threadripper PRO, AMD Athlon, AMD Athlon PRO, AMD FX, AMD A-Series, and AMD PRO A-Series processors brands; discrete GPUs for desktop and notebook PCs under the AMD Radeon graphics, AMD Embedded Radeon graphics brands; and professional graphics products under the AMD Radeon Pro and AMD FirePro graphics brands. It also offers Radeon Instinct, Radeon PRO V-series, and AMD Instinct accelerators for servers; chipsets under the AMD trademark; microprocessors for servers under the AMD EPYC; embedded processor solutions under the AMD Athlon, AMD Geode, AMD Ryzen, AMD EPYC, AMD R-Series, and G-Series processors brands; and customer-specific solutions based on AMD CPU, GPU, and multi-media technologies, as well as semi-custom SoC products. It serves original equipment manufacturers, public cloud service providers, original design manufacturers, system integrators, independent distributors, online retailers, and add-in-board manufacturers through its direct sales force, independent distributors, and sales representatives. The company was incorporated in 1969 and is headquartered in Santa Clara, California.', 'city': 'Santa Clara', 'phone': '408 749 4000', 'state': 'CA', 'country': 'United States', 'companyOfficers': [], 'website': 'https://www.amd.com', 'maxAge': 1, 'address1': '2485 Augustine Drive', 'industry': 'Semiconductors', 'ebitdaMargins': 0.24674, 'profitMargins': 0.19240999, 'grossMargins': 0.48248002, 'operatingCashflow': 3520999936, 'revenueGrowth': 0.488, 'operatingMargins': 0.22198, 'ebitda': 4055000064, 'targetLowPrice': 107, 'recommendationKey': 'buy', 'grossProfits': 7929000000, 'freeCashflow': 3122749952, 'targetMedianPrice': 150, 'currentPrice': 119.22, 'earningsGrowth': -0.454, 'currentRatio': 2.024, 'returnOnAssets': 0.21327, 'numberOfAnalystOpinions': 38, 'targetMeanPrice': 152.02, 'debtToEquity': 9.764, 'returnOnEquity': 0.47428, 'targetHighPrice': 200, 'totalCash': 3608000000, 'totalDebt': 732000000, 'totalRevenue': 16433999872, 'totalCashPerShare': 3.008, 'financialCurrency': 'USD', 'revenuePerShare': 13.548, 'quickRatio': 1.49, 'recommendationMean': 2.2, 'exchange': 'NMS', 'shortName': 'Advanced Micro Devices, Inc.', 'longName': 'Advanced Micro Devices, Inc.', 'exchangeTimezoneName': 'America/New_York', 'exchangeTimezoneShortName': 'EDT', 'isEsgPopulated': False, 'gmtOffSetMilliseconds': '-14400000', 'quoteType': 'EQUITY', 'symbol': 'AMD', 'messageBoardId': 'finmb_168864', 'market': 'us_market', 'annualHoldingsTurnover': None, 'enterpriseToRevenue': 8.525, 'beta3Year': None, 'enterpriseToEbitda': 34.551, '52WeekChange': 0.51966953, 'morningStarRiskRating': None, 'forwardEps': 4.72, 'revenueQuarterlyGrowth': None, 'sharesOutstanding': 1627360000, 'fundInceptionDate': None, 'annualReportExpenseRatio': None, 'totalAssets': None, 'bookValue': 6.211, 'sharesShort': 27776129, 'sharesPercentSharesOut': 0.0171, 'fundFamily': None, 'lastFiscalYearEnd': 1640390400, 'heldPercentInstitutions': 0.52896, 'netIncomeToCommon': 3161999872, 'trailingEps': 2.57, 'lastDividendValue': 0.005, 'SandP52WeekChange': 0.15217662, 'priceToBook': 19.194977, 'heldPercentInsiders': 0.00328, 'nextFiscalYearEnd': 1703462400, 'yield': None, 'mostRecentQuarter': 1640390400, 'shortRatio': 0.24, 'sharesShortPreviousMonthDate': 1644883200, 'floatShares': 1193798619, 'beta': 1.848425, 'enterpriseValue': 140104957952, 'priceHint': 2, 'threeYearAverageReturn': None, 'lastSplitDate': 966902400, 'lastSplitFactor': '2:1', 'legalType': None, 'lastDividendDate': 798940800, 'morningStarOverallRating': None, 'earningsQuarterlyGrowth': -0.453, 'priceToSalesTrailing12Months': 11.805638, 'dateShortInterest': 1647302400, 'pegRatio': 0.99, 'ytdReturn': None, 'forwardPE': 25.258476, 'lastCapGain': None, 'shortPercentOfFloat': 0.0171, 'sharesShortPriorMonth': 88709340, 'impliedSharesOutstanding': 0, 'category': None, 'fiveYearAverageReturn': None, 'previousClose': 123.23, 'regularMarketOpen': 123.04, 'twoHundredDayAverage': 116.6998, 'trailingAnnualDividendYield': 0, 'payoutRatio': 0, 'volume24Hr': None, 'regularMarketDayHigh': 125.66, 'navPrice': None, 'averageDailyVolume10Day': 102167370, 'regularMarketPreviousClose': 123.23, 'fiftyDayAverage': 115.95, 'trailingAnnualDividendRate': 0, 'open': 123.04, 'toCurrency': None, 'averageVolume10days': 102167370, 'expireDate': None, 'algorithm': None, 'dividendRate': None, 'exDividendDate': 798940800, 'circulatingSupply': None, 'startDate': None, 'regularMarketDayLow': 118.59, 'currency': 'USD', 'trailingPE': 46.389107, 'regularMarketVolume': 99476946, 'lastMarket': None, 'maxSupply': None, 'openInterest': None, 'marketCap': 194013855744, 'volumeAllCurrencies': None, 'strikePrice': None, 'averageVolume': 102428813, 'dayLow': 118.59, 'ask': 117.24, 'askSize': 1100, 'volume': 99476946, 'fiftyTwoWeekHigh': 164.46, 'fromCurrency': None, 'fiveYearAvgDividendYield': None, 'fiftyTwoWeekLow': 72.5, 'bid': 117.24, 'tradeable': False, 'dividendYield': None, 'bidSize': 900, 'dayHigh': 125.66, 'regularMarketPrice': 119.22, 'preMarketPrice': 116.98, 'logo_url': 'https://logo.clearbit.com/amd.com'}\n"
     ]
    }
   ],
   "source": [
    "with open('amd.json') as amd_file:\n",
    "    amd_info = json.load(amd_file)\n",
    "\n",
    "print(amd_info)"
   ]
  },
  {
   "cell_type": "code",
   "execution_count": 41,
   "id": "2e73f992",
   "metadata": {},
   "outputs": [
    {
     "data": {
      "text/html": [
       "<div>\n",
       "<style scoped>\n",
       "    .dataframe tbody tr th:only-of-type {\n",
       "        vertical-align: middle;\n",
       "    }\n",
       "\n",
       "    .dataframe tbody tr th {\n",
       "        vertical-align: top;\n",
       "    }\n",
       "\n",
       "    .dataframe thead th {\n",
       "        text-align: right;\n",
       "    }\n",
       "</style>\n",
       "<table border=\"1\" class=\"dataframe\">\n",
       "  <thead>\n",
       "    <tr style=\"text-align: right;\">\n",
       "      <th></th>\n",
       "      <th>zip</th>\n",
       "      <th>sector</th>\n",
       "      <th>fullTimeEmployees</th>\n",
       "      <th>longBusinessSummary</th>\n",
       "      <th>city</th>\n",
       "      <th>phone</th>\n",
       "      <th>state</th>\n",
       "      <th>country</th>\n",
       "      <th>companyOfficers</th>\n",
       "      <th>website</th>\n",
       "      <th>...</th>\n",
       "      <th>fiveYearAvgDividendYield</th>\n",
       "      <th>fiftyTwoWeekLow</th>\n",
       "      <th>bid</th>\n",
       "      <th>tradeable</th>\n",
       "      <th>dividendYield</th>\n",
       "      <th>bidSize</th>\n",
       "      <th>dayHigh</th>\n",
       "      <th>regularMarketPrice</th>\n",
       "      <th>preMarketPrice</th>\n",
       "      <th>logo_url</th>\n",
       "    </tr>\n",
       "  </thead>\n",
       "  <tbody>\n",
       "    <tr>\n",
       "      <th>0</th>\n",
       "      <td>95054</td>\n",
       "      <td>Technology</td>\n",
       "      <td>15500</td>\n",
       "      <td>Advanced Micro Devices, Inc. operates as a sem...</td>\n",
       "      <td>Santa Clara</td>\n",
       "      <td>408 749 4000</td>\n",
       "      <td>CA</td>\n",
       "      <td>United States</td>\n",
       "      <td>[]</td>\n",
       "      <td>https://www.amd.com</td>\n",
       "      <td>...</td>\n",
       "      <td>None</td>\n",
       "      <td>72.5</td>\n",
       "      <td>117.24</td>\n",
       "      <td>False</td>\n",
       "      <td>None</td>\n",
       "      <td>900</td>\n",
       "      <td>125.66</td>\n",
       "      <td>119.22</td>\n",
       "      <td>116.98</td>\n",
       "      <td>https://logo.clearbit.com/amd.com</td>\n",
       "    </tr>\n",
       "  </tbody>\n",
       "</table>\n",
       "<p>1 rows × 152 columns</p>\n",
       "</div>"
      ],
      "text/plain": [
       "     zip      sector  fullTimeEmployees  \\\n",
       "0  95054  Technology              15500   \n",
       "\n",
       "                                 longBusinessSummary         city  \\\n",
       "0  Advanced Micro Devices, Inc. operates as a sem...  Santa Clara   \n",
       "\n",
       "          phone state        country companyOfficers              website  \\\n",
       "0  408 749 4000    CA  United States              []  https://www.amd.com   \n",
       "\n",
       "   ...  fiveYearAvgDividendYield fiftyTwoWeekLow     bid  tradeable  \\\n",
       "0  ...                      None            72.5  117.24      False   \n",
       "\n",
       "   dividendYield  bidSize  dayHigh  regularMarketPrice  preMarketPrice  \\\n",
       "0           None      900   125.66              119.22          116.98   \n",
       "\n",
       "                            logo_url  \n",
       "0  https://logo.clearbit.com/amd.com  \n",
       "\n",
       "[1 rows x 152 columns]"
      ]
     },
     "execution_count": 41,
     "metadata": {},
     "output_type": "execute_result"
    }
   ],
   "source": [
    "table_amd = pd.DataFrame([amd_data])\n",
    "table_amd"
   ]
  },
  {
   "cell_type": "code",
   "execution_count": 42,
   "id": "0c6abdba",
   "metadata": {},
   "outputs": [
    {
     "data": {
      "text/plain": [
       "'Technology'"
      ]
     },
     "execution_count": 42,
     "metadata": {},
     "output_type": "execute_result"
    }
   ],
   "source": [
    "amd_info['sector']"
   ]
  },
  {
   "cell_type": "code",
   "execution_count": 43,
   "id": "12e64033",
   "metadata": {},
   "outputs": [
    {
     "data": {
      "text/plain": [
       "'United States'"
      ]
     },
     "execution_count": 43,
     "metadata": {},
     "output_type": "execute_result"
    }
   ],
   "source": [
    "amd_info['country']"
   ]
  },
  {
   "cell_type": "code",
   "execution_count": 50,
   "id": "272941c2",
   "metadata": {},
   "outputs": [
    {
     "data": {
      "text/html": [
       "<div>\n",
       "<style scoped>\n",
       "    .dataframe tbody tr th:only-of-type {\n",
       "        vertical-align: middle;\n",
       "    }\n",
       "\n",
       "    .dataframe tbody tr th {\n",
       "        vertical-align: top;\n",
       "    }\n",
       "\n",
       "    .dataframe thead th {\n",
       "        text-align: right;\n",
       "    }\n",
       "</style>\n",
       "<table border=\"1\" class=\"dataframe\">\n",
       "  <thead>\n",
       "    <tr style=\"text-align: right;\">\n",
       "      <th></th>\n",
       "      <th>Open</th>\n",
       "      <th>High</th>\n",
       "      <th>Low</th>\n",
       "      <th>Close</th>\n",
       "      <th>Volume</th>\n",
       "      <th>Dividends</th>\n",
       "      <th>Stock Splits</th>\n",
       "    </tr>\n",
       "    <tr>\n",
       "      <th>Date</th>\n",
       "      <th></th>\n",
       "      <th></th>\n",
       "      <th></th>\n",
       "      <th></th>\n",
       "      <th></th>\n",
       "      <th></th>\n",
       "      <th></th>\n",
       "    </tr>\n",
       "  </thead>\n",
       "  <tbody>\n",
       "    <tr>\n",
       "      <th>1980-03-17 00:00:00-05:00</th>\n",
       "      <td>3.125000</td>\n",
       "      <td>3.302083</td>\n",
       "      <td>3.125000</td>\n",
       "      <td>3.145833</td>\n",
       "      <td>219600</td>\n",
       "      <td>0.0</td>\n",
       "      <td>0.0</td>\n",
       "    </tr>\n",
       "    <tr>\n",
       "      <th>1980-03-18 00:00:00-05:00</th>\n",
       "      <td>3.125000</td>\n",
       "      <td>3.125000</td>\n",
       "      <td>2.937500</td>\n",
       "      <td>3.031250</td>\n",
       "      <td>727200</td>\n",
       "      <td>0.0</td>\n",
       "      <td>0.0</td>\n",
       "    </tr>\n",
       "    <tr>\n",
       "      <th>1980-03-19 00:00:00-05:00</th>\n",
       "      <td>3.031250</td>\n",
       "      <td>3.083333</td>\n",
       "      <td>3.020833</td>\n",
       "      <td>3.041667</td>\n",
       "      <td>295200</td>\n",
       "      <td>0.0</td>\n",
       "      <td>0.0</td>\n",
       "    </tr>\n",
       "    <tr>\n",
       "      <th>1980-03-20 00:00:00-05:00</th>\n",
       "      <td>3.041667</td>\n",
       "      <td>3.062500</td>\n",
       "      <td>3.010417</td>\n",
       "      <td>3.010417</td>\n",
       "      <td>159600</td>\n",
       "      <td>0.0</td>\n",
       "      <td>0.0</td>\n",
       "    </tr>\n",
       "    <tr>\n",
       "      <th>1980-03-21 00:00:00-05:00</th>\n",
       "      <td>3.010417</td>\n",
       "      <td>3.020833</td>\n",
       "      <td>2.906250</td>\n",
       "      <td>2.916667</td>\n",
       "      <td>130800</td>\n",
       "      <td>0.0</td>\n",
       "      <td>0.0</td>\n",
       "    </tr>\n",
       "  </tbody>\n",
       "</table>\n",
       "</div>"
      ],
      "text/plain": [
       "                               Open      High       Low     Close  Volume  \\\n",
       "Date                                                                        \n",
       "1980-03-17 00:00:00-05:00  3.125000  3.302083  3.125000  3.145833  219600   \n",
       "1980-03-18 00:00:00-05:00  3.125000  3.125000  2.937500  3.031250  727200   \n",
       "1980-03-19 00:00:00-05:00  3.031250  3.083333  3.020833  3.041667  295200   \n",
       "1980-03-20 00:00:00-05:00  3.041667  3.062500  3.010417  3.010417  159600   \n",
       "1980-03-21 00:00:00-05:00  3.010417  3.020833  2.906250  2.916667  130800   \n",
       "\n",
       "                           Dividends  Stock Splits  \n",
       "Date                                                \n",
       "1980-03-17 00:00:00-05:00        0.0           0.0  \n",
       "1980-03-18 00:00:00-05:00        0.0           0.0  \n",
       "1980-03-19 00:00:00-05:00        0.0           0.0  \n",
       "1980-03-20 00:00:00-05:00        0.0           0.0  \n",
       "1980-03-21 00:00:00-05:00        0.0           0.0  "
      ]
     },
     "execution_count": 50,
     "metadata": {},
     "output_type": "execute_result"
    }
   ],
   "source": [
    "history_stock_amd = amd.history(period=\"max\")\n",
    "history_stock_amd.head()"
   ]
  },
  {
   "cell_type": "code",
   "execution_count": 49,
   "id": "0b31e354",
   "metadata": {},
   "outputs": [
    {
     "data": {
      "text/plain": [
       "np.float64(219600.0)"
      ]
     },
     "execution_count": 49,
     "metadata": {},
     "output_type": "execute_result"
    }
   ],
   "source": [
    "history_stock_amd.iloc[0]['Volume']"
   ]
  },
  {
   "cell_type": "code",
   "execution_count": null,
   "id": "421644eb",
   "metadata": {},
   "outputs": [],
   "source": []
  }
 ],
 "metadata": {
  "kernelspec": {
   "display_name": "Python 3",
   "language": "python",
   "name": "python3"
  },
  "language_info": {
   "codemirror_mode": {
    "name": "ipython",
    "version": 3
   },
   "file_extension": ".py",
   "mimetype": "text/x-python",
   "name": "python",
   "nbconvert_exporter": "python",
   "pygments_lexer": "ipython3",
   "version": "3.10.10"
  }
 },
 "nbformat": 4,
 "nbformat_minor": 5
}
